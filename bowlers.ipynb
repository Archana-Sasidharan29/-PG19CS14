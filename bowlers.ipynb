{
 "cells": [
  {
   "cell_type": "code",
   "execution_count": 2,
   "id": "a148cd56",
   "metadata": {},
   "outputs": [],
   "source": [
    "import pandas as pd\n",
    "import numpy as np\n",
    "import seaborn as sns"
   ]
  },
  {
   "cell_type": "code",
   "execution_count": 16,
   "id": "103ad11f",
   "metadata": {},
   "outputs": [],
   "source": [
    "bow=pd.read_csv(r'C:\\Users\\CYBER WORLD\\OneDrive\\Desktop\\Project\\bowling.csv')"
   ]
  },
  {
   "cell_type": "code",
   "execution_count": 17,
   "id": "688a99b1",
   "metadata": {},
   "outputs": [
    {
     "data": {
      "text/html": [
       "<div>\n",
       "<style scoped>\n",
       "    .dataframe tbody tr th:only-of-type {\n",
       "        vertical-align: middle;\n",
       "    }\n",
       "\n",
       "    .dataframe tbody tr th {\n",
       "        vertical-align: top;\n",
       "    }\n",
       "\n",
       "    .dataframe thead th {\n",
       "        text-align: right;\n",
       "    }\n",
       "</style>\n",
       "<table border=\"1\" class=\"dataframe\">\n",
       "  <thead>\n",
       "    <tr style=\"text-align: right;\">\n",
       "      <th></th>\n",
       "      <th>PlayerName</th>\n",
       "      <th>Team1</th>\n",
       "      <th>Team2</th>\n",
       "      <th>Overs</th>\n",
       "      <th>Maidens</th>\n",
       "      <th>Runs</th>\n",
       "      <th>Wickets</th>\n",
       "      <th>Economy</th>\n",
       "      <th>Dream11_score</th>\n",
       "    </tr>\n",
       "  </thead>\n",
       "  <tbody>\n",
       "    <tr>\n",
       "      <th>0</th>\n",
       "      <td>Umesh Yadav</td>\n",
       "      <td>KKR</td>\n",
       "      <td>CSK</td>\n",
       "      <td>4.0</td>\n",
       "      <td>0</td>\n",
       "      <td>20</td>\n",
       "      <td>2</td>\n",
       "      <td>5.00</td>\n",
       "      <td>58</td>\n",
       "    </tr>\n",
       "    <tr>\n",
       "      <th>1</th>\n",
       "      <td>Shivam Mavi</td>\n",
       "      <td>KKR</td>\n",
       "      <td>CSK</td>\n",
       "      <td>4.0</td>\n",
       "      <td>0</td>\n",
       "      <td>35</td>\n",
       "      <td>0</td>\n",
       "      <td>8.75</td>\n",
       "      <td>4</td>\n",
       "    </tr>\n",
       "    <tr>\n",
       "      <th>2</th>\n",
       "      <td>Varun Chakaravarthy</td>\n",
       "      <td>KKR</td>\n",
       "      <td>CSK</td>\n",
       "      <td>4.0</td>\n",
       "      <td>0</td>\n",
       "      <td>23</td>\n",
       "      <td>1</td>\n",
       "      <td>5.75</td>\n",
       "      <td>33</td>\n",
       "    </tr>\n",
       "    <tr>\n",
       "      <th>3</th>\n",
       "      <td>Sunil Narine</td>\n",
       "      <td>KKR</td>\n",
       "      <td>CSK</td>\n",
       "      <td>4.0</td>\n",
       "      <td>0</td>\n",
       "      <td>15</td>\n",
       "      <td>0</td>\n",
       "      <td>3.75</td>\n",
       "      <td>10</td>\n",
       "    </tr>\n",
       "    <tr>\n",
       "      <th>4</th>\n",
       "      <td>Andre Russell</td>\n",
       "      <td>KKR</td>\n",
       "      <td>CSK</td>\n",
       "      <td>4.0</td>\n",
       "      <td>0</td>\n",
       "      <td>38</td>\n",
       "      <td>1</td>\n",
       "      <td>9.50</td>\n",
       "      <td>29</td>\n",
       "    </tr>\n",
       "  </tbody>\n",
       "</table>\n",
       "</div>"
      ],
      "text/plain": [
       "            PlayerName Team1 Team2  Overs  Maidens  Runs  Wickets  Economy  \\\n",
       "0          Umesh Yadav   KKR   CSK    4.0        0    20        2     5.00   \n",
       "1          Shivam Mavi   KKR   CSK    4.0        0    35        0     8.75   \n",
       "2  Varun Chakaravarthy   KKR   CSK    4.0        0    23        1     5.75   \n",
       "3         Sunil Narine   KKR   CSK    4.0        0    15        0     3.75   \n",
       "4        Andre Russell   KKR   CSK    4.0        0    38        1     9.50   \n",
       "\n",
       "   Dream11_score  \n",
       "0             58  \n",
       "1              4  \n",
       "2             33  \n",
       "3             10  \n",
       "4             29  "
      ]
     },
     "execution_count": 17,
     "metadata": {},
     "output_type": "execute_result"
    }
   ],
   "source": [
    "bow.head()"
   ]
  },
  {
   "cell_type": "code",
   "execution_count": 18,
   "id": "208ff694",
   "metadata": {},
   "outputs": [
    {
     "data": {
      "text/html": [
       "<div>\n",
       "<style scoped>\n",
       "    .dataframe tbody tr th:only-of-type {\n",
       "        vertical-align: middle;\n",
       "    }\n",
       "\n",
       "    .dataframe tbody tr th {\n",
       "        vertical-align: top;\n",
       "    }\n",
       "\n",
       "    .dataframe thead th {\n",
       "        text-align: right;\n",
       "    }\n",
       "</style>\n",
       "<table border=\"1\" class=\"dataframe\">\n",
       "  <thead>\n",
       "    <tr style=\"text-align: right;\">\n",
       "      <th></th>\n",
       "      <th>PlayerName</th>\n",
       "      <th>Team1</th>\n",
       "      <th>Team2</th>\n",
       "      <th>Overs</th>\n",
       "      <th>Maidens</th>\n",
       "      <th>Runs</th>\n",
       "      <th>Wickets</th>\n",
       "      <th>Economy</th>\n",
       "      <th>Dream11_score</th>\n",
       "    </tr>\n",
       "  </thead>\n",
       "  <tbody>\n",
       "    <tr>\n",
       "      <th>851</th>\n",
       "      <td>Trent Boult</td>\n",
       "      <td>RR</td>\n",
       "      <td>GT</td>\n",
       "      <td>4.0</td>\n",
       "      <td>1</td>\n",
       "      <td>14</td>\n",
       "      <td>1</td>\n",
       "      <td>3.50</td>\n",
       "      <td>47</td>\n",
       "    </tr>\n",
       "    <tr>\n",
       "      <th>852</th>\n",
       "      <td>Prasidh Krishna</td>\n",
       "      <td>RR</td>\n",
       "      <td>GT</td>\n",
       "      <td>4.0</td>\n",
       "      <td>0</td>\n",
       "      <td>40</td>\n",
       "      <td>1</td>\n",
       "      <td>10.00</td>\n",
       "      <td>27</td>\n",
       "    </tr>\n",
       "    <tr>\n",
       "      <th>853</th>\n",
       "      <td>Yuzvendra Chahal</td>\n",
       "      <td>RR</td>\n",
       "      <td>GT</td>\n",
       "      <td>4.0</td>\n",
       "      <td>0</td>\n",
       "      <td>20</td>\n",
       "      <td>1</td>\n",
       "      <td>5.00</td>\n",
       "      <td>33</td>\n",
       "    </tr>\n",
       "    <tr>\n",
       "      <th>854</th>\n",
       "      <td>Obed McCoy</td>\n",
       "      <td>RR</td>\n",
       "      <td>GT</td>\n",
       "      <td>3.1</td>\n",
       "      <td>0</td>\n",
       "      <td>26</td>\n",
       "      <td>0</td>\n",
       "      <td>8.21</td>\n",
       "      <td>4</td>\n",
       "    </tr>\n",
       "    <tr>\n",
       "      <th>855</th>\n",
       "      <td>Ravichandran Ashwin</td>\n",
       "      <td>RR</td>\n",
       "      <td>GT</td>\n",
       "      <td>3.0</td>\n",
       "      <td>0</td>\n",
       "      <td>32</td>\n",
       "      <td>0</td>\n",
       "      <td>10.67</td>\n",
       "      <td>2</td>\n",
       "    </tr>\n",
       "  </tbody>\n",
       "</table>\n",
       "</div>"
      ],
      "text/plain": [
       "              PlayerName Team1 Team2  Overs  Maidens  Runs  Wickets  Economy  \\\n",
       "851          Trent Boult    RR    GT    4.0        1    14        1     3.50   \n",
       "852      Prasidh Krishna    RR    GT    4.0        0    40        1    10.00   \n",
       "853     Yuzvendra Chahal    RR    GT    4.0        0    20        1     5.00   \n",
       "854           Obed McCoy    RR    GT    3.1        0    26        0     8.21   \n",
       "855  Ravichandran Ashwin    RR    GT    3.0        0    32        0    10.67   \n",
       "\n",
       "     Dream11_score  \n",
       "851             47  \n",
       "852             27  \n",
       "853             33  \n",
       "854              4  \n",
       "855              2  "
      ]
     },
     "execution_count": 18,
     "metadata": {},
     "output_type": "execute_result"
    }
   ],
   "source": [
    "bow.tail()"
   ]
  },
  {
   "cell_type": "code",
   "execution_count": 19,
   "id": "0d4e1762",
   "metadata": {},
   "outputs": [
    {
     "name": "stdout",
     "output_type": "stream",
     "text": [
      "<class 'pandas.core.frame.DataFrame'>\n",
      "RangeIndex: 856 entries, 0 to 855\n",
      "Data columns (total 9 columns):\n",
      " #   Column         Non-Null Count  Dtype  \n",
      "---  ------         --------------  -----  \n",
      " 0   PlayerName     856 non-null    object \n",
      " 1   Team1          856 non-null    object \n",
      " 2   Team2          856 non-null    object \n",
      " 3   Overs          856 non-null    float64\n",
      " 4   Maidens        856 non-null    int64  \n",
      " 5   Runs           856 non-null    int64  \n",
      " 6   Wickets        856 non-null    int64  \n",
      " 7   Economy        856 non-null    float64\n",
      " 8   Dream11_score  856 non-null    int64  \n",
      "dtypes: float64(2), int64(4), object(3)\n",
      "memory usage: 60.3+ KB\n"
     ]
    }
   ],
   "source": [
    "bow.info()"
   ]
  },
  {
   "cell_type": "code",
   "execution_count": 20,
   "id": "35732b7f",
   "metadata": {},
   "outputs": [
    {
     "data": {
      "text/plain": [
       "Index(['PlayerName', 'Team1', 'Team2', 'Overs', 'Maidens', 'Runs', 'Wickets',\n",
       "       'Economy', 'Dream11_score'],\n",
       "      dtype='object')"
      ]
     },
     "execution_count": 20,
     "metadata": {},
     "output_type": "execute_result"
    }
   ],
   "source": [
    "bow.columns"
   ]
  },
  {
   "cell_type": "code",
   "execution_count": 21,
   "id": "d19c240e",
   "metadata": {},
   "outputs": [
    {
     "data": {
      "text/plain": [
       "PlayerName        object\n",
       "Team1             object\n",
       "Team2             object\n",
       "Overs            float64\n",
       "Maidens            int64\n",
       "Runs               int64\n",
       "Wickets            int64\n",
       "Economy          float64\n",
       "Dream11_score      int64\n",
       "dtype: object"
      ]
     },
     "execution_count": 21,
     "metadata": {},
     "output_type": "execute_result"
    }
   ],
   "source": [
    "bow.dtypes"
   ]
  },
  {
   "cell_type": "code",
   "execution_count": 22,
   "id": "0b43d461",
   "metadata": {},
   "outputs": [
    {
     "data": {
      "text/plain": [
       "(856, 9)"
      ]
     },
     "execution_count": 22,
     "metadata": {},
     "output_type": "execute_result"
    }
   ],
   "source": [
    "bow.shape"
   ]
  },
  {
   "cell_type": "code",
   "execution_count": 10,
   "id": "ac40faf7",
   "metadata": {},
   "outputs": [
    {
     "data": {
      "text/plain": [
       "PlayerName    0\n",
       "Team1         0\n",
       "Team2         0\n",
       "Overs         0\n",
       "Maidens       0\n",
       "Runs          0\n",
       "Wickets       0\n",
       "Economy       0\n",
       "dtype: int64"
      ]
     },
     "execution_count": 10,
     "metadata": {},
     "output_type": "execute_result"
    }
   ],
   "source": [
    "bow.isnull().sum()"
   ]
  },
  {
   "cell_type": "code",
   "execution_count": 23,
   "id": "cbeb0f0b",
   "metadata": {},
   "outputs": [
    {
     "data": {
      "text/html": [
       "<div>\n",
       "<style scoped>\n",
       "    .dataframe tbody tr th:only-of-type {\n",
       "        vertical-align: middle;\n",
       "    }\n",
       "\n",
       "    .dataframe tbody tr th {\n",
       "        vertical-align: top;\n",
       "    }\n",
       "\n",
       "    .dataframe thead th {\n",
       "        text-align: right;\n",
       "    }\n",
       "</style>\n",
       "<table border=\"1\" class=\"dataframe\">\n",
       "  <thead>\n",
       "    <tr style=\"text-align: right;\">\n",
       "      <th></th>\n",
       "      <th>Overs</th>\n",
       "      <th>Maidens</th>\n",
       "      <th>Runs</th>\n",
       "      <th>Wickets</th>\n",
       "      <th>Economy</th>\n",
       "      <th>Dream11_score</th>\n",
       "    </tr>\n",
       "  </thead>\n",
       "  <tbody>\n",
       "    <tr>\n",
       "      <th>count</th>\n",
       "      <td>856.000000</td>\n",
       "      <td>856.000000</td>\n",
       "      <td>856.000000</td>\n",
       "      <td>856.000000</td>\n",
       "      <td>856.000000</td>\n",
       "      <td>856.000000</td>\n",
       "    </tr>\n",
       "    <tr>\n",
       "      <th>mean</th>\n",
       "      <td>3.326168</td>\n",
       "      <td>0.032710</td>\n",
       "      <td>28.019860</td>\n",
       "      <td>0.990654</td>\n",
       "      <td>8.729439</td>\n",
       "      <td>29.799065</td>\n",
       "    </tr>\n",
       "    <tr>\n",
       "      <th>std</th>\n",
       "      <td>0.996716</td>\n",
       "      <td>0.184436</td>\n",
       "      <td>11.227924</td>\n",
       "      <td>1.074927</td>\n",
       "      <td>3.336894</td>\n",
       "      <td>29.639421</td>\n",
       "    </tr>\n",
       "    <tr>\n",
       "      <th>min</th>\n",
       "      <td>0.100000</td>\n",
       "      <td>0.000000</td>\n",
       "      <td>1.000000</td>\n",
       "      <td>0.000000</td>\n",
       "      <td>1.670000</td>\n",
       "      <td>-2.000000</td>\n",
       "    </tr>\n",
       "    <tr>\n",
       "      <th>25%</th>\n",
       "      <td>3.000000</td>\n",
       "      <td>0.000000</td>\n",
       "      <td>20.000000</td>\n",
       "      <td>0.000000</td>\n",
       "      <td>6.500000</td>\n",
       "      <td>4.000000</td>\n",
       "    </tr>\n",
       "    <tr>\n",
       "      <th>50%</th>\n",
       "      <td>4.000000</td>\n",
       "      <td>0.000000</td>\n",
       "      <td>28.000000</td>\n",
       "      <td>1.000000</td>\n",
       "      <td>8.330000</td>\n",
       "      <td>29.000000</td>\n",
       "    </tr>\n",
       "    <tr>\n",
       "      <th>75%</th>\n",
       "      <td>4.000000</td>\n",
       "      <td>0.000000</td>\n",
       "      <td>36.000000</td>\n",
       "      <td>2.000000</td>\n",
       "      <td>10.500000</td>\n",
       "      <td>50.000000</td>\n",
       "    </tr>\n",
       "    <tr>\n",
       "      <th>max</th>\n",
       "      <td>4.000000</td>\n",
       "      <td>2.000000</td>\n",
       "      <td>64.000000</td>\n",
       "      <td>5.000000</td>\n",
       "      <td>36.000000</td>\n",
       "      <td>163.000000</td>\n",
       "    </tr>\n",
       "  </tbody>\n",
       "</table>\n",
       "</div>"
      ],
      "text/plain": [
       "            Overs     Maidens        Runs     Wickets     Economy  \\\n",
       "count  856.000000  856.000000  856.000000  856.000000  856.000000   \n",
       "mean     3.326168    0.032710   28.019860    0.990654    8.729439   \n",
       "std      0.996716    0.184436   11.227924    1.074927    3.336894   \n",
       "min      0.100000    0.000000    1.000000    0.000000    1.670000   \n",
       "25%      3.000000    0.000000   20.000000    0.000000    6.500000   \n",
       "50%      4.000000    0.000000   28.000000    1.000000    8.330000   \n",
       "75%      4.000000    0.000000   36.000000    2.000000   10.500000   \n",
       "max      4.000000    2.000000   64.000000    5.000000   36.000000   \n",
       "\n",
       "       Dream11_score  \n",
       "count     856.000000  \n",
       "mean       29.799065  \n",
       "std        29.639421  \n",
       "min        -2.000000  \n",
       "25%         4.000000  \n",
       "50%        29.000000  \n",
       "75%        50.000000  \n",
       "max       163.000000  "
      ]
     },
     "execution_count": 23,
     "metadata": {},
     "output_type": "execute_result"
    }
   ],
   "source": [
    "bow.describe()"
   ]
  },
  {
   "cell_type": "code",
   "execution_count": 24,
   "id": "764c0d77",
   "metadata": {},
   "outputs": [
    {
     "data": {
      "text/plain": [
       "<AxesSubplot:xlabel='PlayerName', ylabel='count'>"
      ]
     },
     "execution_count": 24,
     "metadata": {},
     "output_type": "execute_result"
    },
    {
     "data": {
      "image/png": "[encoded data removed]",
      "text/plain": [
       "<Figure size 640x480 with 1 Axes>"
      ]
     },
     "metadata": {},
     "output_type": "display_data"
    }
   ],
   "source": [
    "sns.countplot(x=bow.PlayerName.value_counts(),data=bow)"
   ]
  },
  {
   "cell_type": "code",
   "execution_count": 1,
   "id": "3b3f634d",
   "metadata": {},
   "outputs": [
    {
     "ename": "NameError",
     "evalue": "name 'bow' is not defined",
     "output_type": "error",
     "traceback": [
      "\u001b[1;31m---------------------------------------------------------------------------\u001b[0m",
      "\u001b[1;31mNameError\u001b[0m                                 Traceback (most recent call last)",
      "\u001b[1;32m~\\AppData\\Local\\Temp\\ipykernel_5232\\2742304179.py\u001b[0m in \u001b[0;36m<module>\u001b[1;34m\u001b[0m\n\u001b[1;32m----> 1\u001b[1;33m \u001b[0mplayer_stats\u001b[0m\u001b[1;33m=\u001b[0m\u001b[0mbow\u001b[0m\u001b[1;33m[\u001b[0m\u001b[1;33m[\u001b[0m\u001b[1;34m'PlayerName'\u001b[0m\u001b[1;33m,\u001b[0m\u001b[1;34m'Overs'\u001b[0m\u001b[1;33m,\u001b[0m\u001b[1;34m'Maidens'\u001b[0m\u001b[1;33m,\u001b[0m\u001b[1;34m'Runs'\u001b[0m\u001b[1;33m,\u001b[0m\u001b[1;34m'Wickets'\u001b[0m\u001b[1;33m,\u001b[0m\u001b[1;34m'Economy'\u001b[0m\u001b[1;33m,\u001b[0m\u001b[1;34m'Dream11_score'\u001b[0m\u001b[1;33m]\u001b[0m\u001b[1;33m]\u001b[0m\u001b[1;33m.\u001b[0m\u001b[0mgroupby\u001b[0m\u001b[1;33m(\u001b[0m\u001b[1;34m'PlayerName'\u001b[0m\u001b[1;33m)\u001b[0m\u001b[1;33m.\u001b[0m\u001b[0msum\u001b[0m\u001b[1;33m(\u001b[0m\u001b[1;33m)\u001b[0m\u001b[1;33m.\u001b[0m\u001b[0msort_values\u001b[0m\u001b[1;33m(\u001b[0m\u001b[1;34m\"Wickets\"\u001b[0m\u001b[1;33m,\u001b[0m\u001b[0mascending\u001b[0m\u001b[1;33m=\u001b[0m\u001b[1;32mFalse\u001b[0m\u001b[1;33m)\u001b[0m\u001b[1;33m\u001b[0m\u001b[1;33m\u001b[0m\u001b[0m\n\u001b[0m",
      "\u001b[1;31mNameError\u001b[0m: name 'bow' is not defined"
     ]
    }
   ],
   "source": [
    "player_stats=bow[['PlayerName','Overs','Maidens','Runs','Wickets','Economy','Dream11_score']].groupby('PlayerName').sum().sort_values(\"Wickets\",ascending=False)"
   ]
  },
  {
   "cell_type": "code",
   "execution_count": 13,
   "id": "16f16088",
   "metadata": {},
   "outputs": [
    {
     "data": {
      "text/plain": [
       "PlayerName    Yuzvendra Chahal\n",
       "Team1                       RR\n",
       "Team2                      KKR\n",
       "Overs                      4.0\n",
       "Maidens                      0\n",
       "Runs                        40\n",
       "Wickets                      5\n",
       "Economy                   10.0\n",
       "Name: 350, dtype: object"
      ]
     },
     "execution_count": 13,
     "metadata": {},
     "output_type": "execute_result"
    }
   ],
   "source": [
    "highest_wkts=bow['Wickets'].argmax()\n",
    "bow.iloc[highest_wkts]"
   ]
  },
  {
   "cell_type": "code",
   "execution_count": 27,
   "id": "7a68d0ec",
   "metadata": {},
   "outputs": [
    {
     "data": {
      "text/plain": [
       "PlayerName       Wanindu Hasaranga\n",
       "Team1                          RCB\n",
       "Team2                          SRH\n",
       "Overs                          4.0\n",
       "Maidens                          1\n",
       "Runs                            18\n",
       "Wickets                          5\n",
       "Economy                        4.5\n",
       "Dream11_score                  163\n",
       "Name: 627, dtype: object"
      ]
     },
     "execution_count": 27,
     "metadata": {},
     "output_type": "execute_result"
    }
   ],
   "source": [
    "player_statshighest_score=bow['Dream11_score'].argmax()\n",
    "bow.iloc[highest_score]"
   ]
  },
  {
   "cell_type": "code",
   "execution_count": 28,
   "id": "621975eb",
   "metadata": {},
   "outputs": [
    {
     "data": {
      "text/html": [
       "<div>\n",
       "<style scoped>\n",
       "    .dataframe tbody tr th:only-of-type {\n",
       "        vertical-align: middle;\n",
       "    }\n",
       "\n",
       "    .dataframe tbody tr th {\n",
       "        vertical-align: top;\n",
       "    }\n",
       "\n",
       "    .dataframe thead th {\n",
       "        text-align: right;\n",
       "    }\n",
       "</style>\n",
       "<table border=\"1\" class=\"dataframe\">\n",
       "  <thead>\n",
       "    <tr style=\"text-align: right;\">\n",
       "      <th></th>\n",
       "      <th>Overs</th>\n",
       "      <th>Maidens</th>\n",
       "      <th>Runs</th>\n",
       "      <th>Wickets</th>\n",
       "      <th>Economy</th>\n",
       "      <th>Dream11_score</th>\n",
       "    </tr>\n",
       "    <tr>\n",
       "      <th>PlayerName</th>\n",
       "      <th></th>\n",
       "      <th></th>\n",
       "      <th></th>\n",
       "      <th></th>\n",
       "      <th></th>\n",
       "      <th></th>\n",
       "    </tr>\n",
       "  </thead>\n",
       "  <tbody>\n",
       "    <tr>\n",
       "      <th>Yuzvendra Chahal</th>\n",
       "      <td>68.0</td>\n",
       "      <td>0</td>\n",
       "      <td>527</td>\n",
       "      <td>27</td>\n",
       "      <td>131.75</td>\n",
       "      <td>785</td>\n",
       "    </tr>\n",
       "    <tr>\n",
       "      <th>Wanindu Hasaranga</th>\n",
       "      <td>57.0</td>\n",
       "      <td>1</td>\n",
       "      <td>430</td>\n",
       "      <td>26</td>\n",
       "      <td>123.25</td>\n",
       "      <td>760</td>\n",
       "    </tr>\n",
       "    <tr>\n",
       "      <th>Kagiso Rabada</th>\n",
       "      <td>48.0</td>\n",
       "      <td>0</td>\n",
       "      <td>406</td>\n",
       "      <td>23</td>\n",
       "      <td>110.67</td>\n",
       "      <td>645</td>\n",
       "    </tr>\n",
       "    <tr>\n",
       "      <th>Umran Malik</th>\n",
       "      <td>49.1</td>\n",
       "      <td>1</td>\n",
       "      <td>444</td>\n",
       "      <td>22</td>\n",
       "      <td>129.92</td>\n",
       "      <td>634</td>\n",
       "    </tr>\n",
       "    <tr>\n",
       "      <th>Kuldeep Yadav</th>\n",
       "      <td>49.4</td>\n",
       "      <td>0</td>\n",
       "      <td>419</td>\n",
       "      <td>21</td>\n",
       "      <td>118.79</td>\n",
       "      <td>605</td>\n",
       "    </tr>\n",
       "    <tr>\n",
       "      <th>...</th>\n",
       "      <td>...</td>\n",
       "      <td>...</td>\n",
       "      <td>...</td>\n",
       "      <td>...</td>\n",
       "      <td>...</td>\n",
       "      <td>...</td>\n",
       "    </tr>\n",
       "    <tr>\n",
       "      <th>Rasikh Salam</th>\n",
       "      <td>4.0</td>\n",
       "      <td>0</td>\n",
       "      <td>28</td>\n",
       "      <td>0</td>\n",
       "      <td>16.00</td>\n",
       "      <td>10</td>\n",
       "    </tr>\n",
       "    <tr>\n",
       "      <th>Rahul Tewatia</th>\n",
       "      <td>6.0</td>\n",
       "      <td>0</td>\n",
       "      <td>76</td>\n",
       "      <td>0</td>\n",
       "      <td>65.00</td>\n",
       "      <td>18</td>\n",
       "    </tr>\n",
       "    <tr>\n",
       "      <th>Mahipal Lomror</th>\n",
       "      <td>2.0</td>\n",
       "      <td>0</td>\n",
       "      <td>18</td>\n",
       "      <td>0</td>\n",
       "      <td>18.00</td>\n",
       "      <td>8</td>\n",
       "    </tr>\n",
       "    <tr>\n",
       "      <th>Nitish Rana</th>\n",
       "      <td>2.0</td>\n",
       "      <td>0</td>\n",
       "      <td>23</td>\n",
       "      <td>0</td>\n",
       "      <td>23.00</td>\n",
       "      <td>8</td>\n",
       "    </tr>\n",
       "    <tr>\n",
       "      <th>Abdul Samad</th>\n",
       "      <td>1.0</td>\n",
       "      <td>0</td>\n",
       "      <td>8</td>\n",
       "      <td>0</td>\n",
       "      <td>8.00</td>\n",
       "      <td>4</td>\n",
       "    </tr>\n",
       "  </tbody>\n",
       "</table>\n",
       "<p>125 rows × 6 columns</p>\n",
       "</div>"
      ],
      "text/plain": [
       "                   Overs  Maidens  Runs  Wickets  Economy  Dream11_score\n",
       "PlayerName                                                              \n",
       "Yuzvendra Chahal    68.0        0   527       27   131.75            785\n",
       "Wanindu Hasaranga   57.0        1   430       26   123.25            760\n",
       "Kagiso Rabada       48.0        0   406       23   110.67            645\n",
       "Umran Malik         49.1        1   444       22   129.92            634\n",
       "Kuldeep Yadav       49.4        0   419       21   118.79            605\n",
       "...                  ...      ...   ...      ...      ...            ...\n",
       "Rasikh Salam         4.0        0    28        0    16.00             10\n",
       "Rahul Tewatia        6.0        0    76        0    65.00             18\n",
       "Mahipal Lomror       2.0        0    18        0    18.00              8\n",
       "Nitish Rana          2.0        0    23        0    23.00              8\n",
       "Abdul Samad          1.0        0     8        0     8.00              4\n",
       "\n",
       "[125 rows x 6 columns]"
      ]
     },
     "execution_count": 28,
     "metadata": {},
     "output_type": "execute_result"
    }
   ],
   "source": [
    "player_stats"
   ]
  },
  {
   "cell_type": "code",
   "execution_count": 29,
   "id": "22cb13d3",
   "metadata": {},
   "outputs": [
    {
     "data": {
      "text/plain": [
       "Team1    RR\n",
       "Name: Yuzvendra Chahal, dtype: object"
      ]
     },
     "execution_count": 29,
     "metadata": {},
     "output_type": "execute_result"
    }
   ],
   "source": [
    "player_team=bow[['PlayerName','Team1']].groupby('PlayerName').sample()\n",
    "player_team.set_index(\"PlayerName\",inplace=True)\n",
    "player_team\n",
    "player_team.loc['Yuzvendra Chahal']"
   ]
  },
  {
   "cell_type": "code",
   "execution_count": 30,
   "id": "3ff1b4c8",
   "metadata": {},
   "outputs": [
    {
     "data": {
      "text/html": [
       "<div>\n",
       "<style scoped>\n",
       "    .dataframe tbody tr th:only-of-type {\n",
       "        vertical-align: middle;\n",
       "    }\n",
       "\n",
       "    .dataframe tbody tr th {\n",
       "        vertical-align: top;\n",
       "    }\n",
       "\n",
       "    .dataframe thead th {\n",
       "        text-align: right;\n",
       "    }\n",
       "</style>\n",
       "<table border=\"1\" class=\"dataframe\">\n",
       "  <thead>\n",
       "    <tr style=\"text-align: right;\">\n",
       "      <th></th>\n",
       "      <th>Overs</th>\n",
       "      <th>Maidens</th>\n",
       "      <th>Runs</th>\n",
       "      <th>Wickets</th>\n",
       "      <th>Economy</th>\n",
       "      <th>Dream11_score</th>\n",
       "      <th>Team1</th>\n",
       "    </tr>\n",
       "    <tr>\n",
       "      <th>PlayerName</th>\n",
       "      <th></th>\n",
       "      <th></th>\n",
       "      <th></th>\n",
       "      <th></th>\n",
       "      <th></th>\n",
       "      <th></th>\n",
       "      <th></th>\n",
       "    </tr>\n",
       "  </thead>\n",
       "  <tbody>\n",
       "    <tr>\n",
       "      <th>Yuzvendra Chahal</th>\n",
       "      <td>68.0</td>\n",
       "      <td>0</td>\n",
       "      <td>527</td>\n",
       "      <td>27</td>\n",
       "      <td>131.75</td>\n",
       "      <td>785</td>\n",
       "      <td>RR</td>\n",
       "    </tr>\n",
       "    <tr>\n",
       "      <th>Wanindu Hasaranga</th>\n",
       "      <td>57.0</td>\n",
       "      <td>1</td>\n",
       "      <td>430</td>\n",
       "      <td>26</td>\n",
       "      <td>123.25</td>\n",
       "      <td>760</td>\n",
       "      <td>RCB</td>\n",
       "    </tr>\n",
       "    <tr>\n",
       "      <th>Kagiso Rabada</th>\n",
       "      <td>48.0</td>\n",
       "      <td>0</td>\n",
       "      <td>406</td>\n",
       "      <td>23</td>\n",
       "      <td>110.67</td>\n",
       "      <td>645</td>\n",
       "      <td>PBSK</td>\n",
       "    </tr>\n",
       "    <tr>\n",
       "      <th>Umran Malik</th>\n",
       "      <td>49.1</td>\n",
       "      <td>1</td>\n",
       "      <td>444</td>\n",
       "      <td>22</td>\n",
       "      <td>129.92</td>\n",
       "      <td>634</td>\n",
       "      <td>SRH</td>\n",
       "    </tr>\n",
       "    <tr>\n",
       "      <th>Kuldeep Yadav</th>\n",
       "      <td>49.4</td>\n",
       "      <td>0</td>\n",
       "      <td>419</td>\n",
       "      <td>21</td>\n",
       "      <td>118.79</td>\n",
       "      <td>605</td>\n",
       "      <td>DC</td>\n",
       "    </tr>\n",
       "    <tr>\n",
       "      <th>...</th>\n",
       "      <td>...</td>\n",
       "      <td>...</td>\n",
       "      <td>...</td>\n",
       "      <td>...</td>\n",
       "      <td>...</td>\n",
       "      <td>...</td>\n",
       "      <td>...</td>\n",
       "    </tr>\n",
       "    <tr>\n",
       "      <th>Rasikh Salam</th>\n",
       "      <td>4.0</td>\n",
       "      <td>0</td>\n",
       "      <td>28</td>\n",
       "      <td>0</td>\n",
       "      <td>16.00</td>\n",
       "      <td>10</td>\n",
       "      <td>KKR</td>\n",
       "    </tr>\n",
       "    <tr>\n",
       "      <th>Rahul Tewatia</th>\n",
       "      <td>6.0</td>\n",
       "      <td>0</td>\n",
       "      <td>76</td>\n",
       "      <td>0</td>\n",
       "      <td>65.00</td>\n",
       "      <td>18</td>\n",
       "      <td>GT</td>\n",
       "    </tr>\n",
       "    <tr>\n",
       "      <th>Mahipal Lomror</th>\n",
       "      <td>2.0</td>\n",
       "      <td>0</td>\n",
       "      <td>18</td>\n",
       "      <td>0</td>\n",
       "      <td>18.00</td>\n",
       "      <td>8</td>\n",
       "      <td>RCB</td>\n",
       "    </tr>\n",
       "    <tr>\n",
       "      <th>Nitish Rana</th>\n",
       "      <td>2.0</td>\n",
       "      <td>0</td>\n",
       "      <td>23</td>\n",
       "      <td>0</td>\n",
       "      <td>23.00</td>\n",
       "      <td>8</td>\n",
       "      <td>KKR</td>\n",
       "    </tr>\n",
       "    <tr>\n",
       "      <th>Abdul Samad</th>\n",
       "      <td>1.0</td>\n",
       "      <td>0</td>\n",
       "      <td>8</td>\n",
       "      <td>0</td>\n",
       "      <td>8.00</td>\n",
       "      <td>4</td>\n",
       "      <td>SRH</td>\n",
       "    </tr>\n",
       "  </tbody>\n",
       "</table>\n",
       "<p>125 rows × 7 columns</p>\n",
       "</div>"
      ],
      "text/plain": [
       "                   Overs  Maidens  Runs  Wickets  Economy  Dream11_score Team1\n",
       "PlayerName                                                                    \n",
       "Yuzvendra Chahal    68.0        0   527       27   131.75            785    RR\n",
       "Wanindu Hasaranga   57.0        1   430       26   123.25            760   RCB\n",
       "Kagiso Rabada       48.0        0   406       23   110.67            645  PBSK\n",
       "Umran Malik         49.1        1   444       22   129.92            634   SRH\n",
       "Kuldeep Yadav       49.4        0   419       21   118.79            605    DC\n",
       "...                  ...      ...   ...      ...      ...            ...   ...\n",
       "Rasikh Salam         4.0        0    28        0    16.00             10   KKR\n",
       "Rahul Tewatia        6.0        0    76        0    65.00             18    GT\n",
       "Mahipal Lomror       2.0        0    18        0    18.00              8   RCB\n",
       "Nitish Rana          2.0        0    23        0    23.00              8   KKR\n",
       "Abdul Samad          1.0        0     8        0     8.00              4   SRH\n",
       "\n",
       "[125 rows x 7 columns]"
      ]
     },
     "execution_count": 30,
     "metadata": {},
     "output_type": "execute_result"
    }
   ],
   "source": [
    "player_stats=player_stats.merge(player_team,on='PlayerName')\n",
    "player_stats"
   ]
  },
  {
   "cell_type": "code",
   "execution_count": null,
   "id": "822242d0",
   "metadata": {},
   "outputs": [],
   "source": []
  },
  {
   "cell_type": "code",
   "execution_count": null,
   "id": "41da46f9",
   "metadata": {},
   "outputs": [],
   "source": []
  },
  {
   "cell_type": "code",
   "execution_count": null,
   "id": "4791be44",
   "metadata": {},
   "outputs": [],
   "source": []
  },
  {
   "cell_type": "code",
   "execution_count": null,
   "id": "d363328f",
   "metadata": {},
   "outputs": [],
   "source": []
  },
  {
   "cell_type": "code",
   "execution_count": null,
   "id": "3701ab66",
   "metadata": {},
   "outputs": [],
   "source": []
  },
  {
   "cell_type": "code",
   "execution_count": null,
   "id": "491fdbb6",
   "metadata": {},
   "outputs": [],
   "source": []
  },
  {
   "cell_type": "code",
   "execution_count": null,
   "id": "1a61619b",
   "metadata": {},
   "outputs": [],
   "source": []
  },
  {
   "cell_type": "code",
   "execution_count": null,
   "id": "b7191624",
   "metadata": {},
   "outputs": [],
   "source": []
  },
  {
   "cell_type": "code",
   "execution_count": null,
   "id": "187110ff",
   "metadata": {},
   "outputs": [],
   "source": []
  },
  {
   "cell_type": "code",
   "execution_count": null,
   "id": "b1bce732",
   "metadata": {},
   "outputs": [],
   "source": []
  },
  {
   "cell_type": "code",
   "execution_count": null,
   "id": "3de341a3",
   "metadata": {},
   "outputs": [],
   "source": []
  },
  {
   "cell_type": "code",
   "execution_count": null,
   "id": "051618c5",
   "metadata": {},
   "outputs": [],
   "source": []
  }
 ],
 "metadata": {
  "kernelspec": {
   "display_name": "Python 3 (ipykernel)",
   "language": "python",
   "name": "python3"
  },
  "language_info": {
   "codemirror_mode": {
    "name": "ipython",
    "version": 3
   },
   "file_extension": ".py",
   "mimetype": "text/x-python",
   "name": "python",
   "nbconvert_exporter": "python",
   "pygments_lexer": "ipython3",
   "version": "3.9.13"
  }
 },
 "nbformat": 4,
 "nbformat_minor": 5
}
